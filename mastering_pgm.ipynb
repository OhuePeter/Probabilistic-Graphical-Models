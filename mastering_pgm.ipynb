{
 "cells": [
  {
   "cell_type": "markdown",
   "metadata": {},
   "source": [
    "# Representing Independencies using pgmpy"
   ]
  },
  {
   "cell_type": "code",
   "execution_count": 19,
   "metadata": {},
   "outputs": [],
   "source": [
    "# Importing IndependenciesAssertion\n",
    "# from pgmpy.independencies import independenceAssertion"
   ]
  },
  {
   "cell_type": "code",
   "execution_count": null,
   "metadata": {},
   "outputs": [],
   "source": []
  },
  {
   "cell_type": "code",
   "execution_count": 20,
   "metadata": {},
   "outputs": [],
   "source": [
    "# Creating an empty DAG with no nodes and no edges\n",
    "from pgmpy.base import DAG"
   ]
  },
  {
   "cell_type": "code",
   "execution_count": 21,
   "metadata": {},
   "outputs": [],
   "source": [
    "G = DAG()"
   ]
  },
  {
   "cell_type": "code",
   "execution_count": 22,
   "metadata": {},
   "outputs": [],
   "source": [
    "# Growing G: Add a node \"A\"\n",
    "G.add_node(node=\"A\")"
   ]
  },
  {
   "cell_type": "code",
   "execution_count": 23,
   "metadata": {},
   "outputs": [],
   "source": [
    "# Adding node from any container( a list, a set or tuple or node from another graph)\n",
    "\n",
    "G.add_nodes_from=['A', 'B']"
   ]
  },
  {
   "cell_type": "code",
   "execution_count": 24,
   "metadata": {},
   "outputs": [],
   "source": [
    "# Grow G by adding edges\n",
    "# Add one edge:\n",
    "G.add_edge(u='A', v='B')"
   ]
  },
  {
   "cell_type": "code",
   "execution_count": 25,
   "metadata": {},
   "outputs": [],
   "source": [
    "# A list of edges:\n",
    "G.add_edges_from(ebunch=[('A', 'B'), ('B', 'C')])"
   ]
  },
  {
   "cell_type": "raw",
   "metadata": {},
   "source": [
    "If some edges connect nodes not yet in the model, \n",
    "the nodes are added automatically. There \n",
    "are no errors when adding nodes or edges that already exist."
   ]
  },
  {
   "cell_type": "code",
   "execution_count": 26,
   "metadata": {},
   "outputs": [
    {
     "data": {
      "text/plain": [
       "False"
      ]
     },
     "execution_count": 26,
     "metadata": {},
     "output_type": "execute_result"
    }
   ],
   "source": [
    "#Check if node is in graph\n",
    "\"a\" in G"
   ]
  },
  {
   "cell_type": "code",
   "execution_count": 27,
   "metadata": {},
   "outputs": [
    {
     "data": {
      "text/plain": [
       "True"
      ]
     },
     "execution_count": 27,
     "metadata": {},
     "output_type": "execute_result"
    }
   ],
   "source": [
    "\"A\" in G"
   ]
  },
  {
   "cell_type": "code",
   "execution_count": 28,
   "metadata": {},
   "outputs": [
    {
     "data": {
      "text/plain": [
       "True"
      ]
     },
     "execution_count": 28,
     "metadata": {},
     "output_type": "execute_result"
    }
   ],
   "source": [
    "\"C\" in G"
   ]
  },
  {
   "cell_type": "code",
   "execution_count": 29,
   "metadata": {},
   "outputs": [
    {
     "data": {
      "text/plain": [
       "False"
      ]
     },
     "execution_count": 29,
     "metadata": {},
     "output_type": "execute_result"
    }
   ],
   "source": [
    "'D' in G"
   ]
  },
  {
   "cell_type": "code",
   "execution_count": 30,
   "metadata": {},
   "outputs": [
    {
     "data": {
      "text/plain": [
       "3"
      ]
     },
     "execution_count": 30,
     "metadata": {},
     "output_type": "execute_result"
    }
   ],
   "source": [
    "# Length of graph:\n",
    "len(G)"
   ]
  },
  {
   "cell_type": "code",
   "execution_count": 31,
   "metadata": {},
   "outputs": [],
   "source": [
    "# active_trail_nodes (variables, observed=None, include_latents=False):\n",
    "# The above returns a dictionary with the given cariables as keys and\n",
    "# and all the nodes reachable from that respective variables as values"
   ]
  },
  {
   "cell_type": "code",
   "execution_count": 32,
   "metadata": {},
   "outputs": [
    {
     "data": {
      "text/plain": [
       "{'difficulty': {'difficulty', 'grades'}}"
      ]
     },
     "execution_count": 32,
     "metadata": {},
     "output_type": "execute_result"
    }
   ],
   "source": [
    "#EXAMPLE 1:\n",
    "from pgmpy.base import DAG\n",
    "student = DAG()\n",
    "student.add_nodes_from(['difficulty', 'intelligence', 'grades'])\n",
    "student.add_edges_from([('difficulty', 'grades'), ('intelligence', 'grades')])\n",
    "student.active_trail_nodes('difficulty')"
   ]
  },
  {
   "cell_type": "code",
   "execution_count": 33,
   "metadata": {
    "scrolled": true
   },
   "outputs": [
    {
     "data": {
      "text/plain": [
       "{'difficulty': {'difficulty', 'intelligence'},\n",
       " 'intelligence': {'difficulty', 'intelligence'}}"
      ]
     },
     "execution_count": 33,
     "metadata": {},
     "output_type": "execute_result"
    }
   ],
   "source": [
    "#Observing grades\n",
    "student.active_trail_nodes(['difficulty', 'intelligence'], observed='grades')\n"
   ]
  },
  {
   "cell_type": "code",
   "execution_count": null,
   "metadata": {},
   "outputs": [],
   "source": []
  },
  {
   "cell_type": "code",
   "execution_count": 34,
   "metadata": {},
   "outputs": [
    {
     "data": {
      "text/plain": [
       "['J']"
      ]
     },
     "execution_count": 34,
     "metadata": {},
     "output_type": "execute_result"
    }
   ],
   "source": [
    "# Adds a single node to the Graph:\n",
    "from pgmpy.base import DAG\n",
    "G = DAG()\n",
    "G.add_node(node='J')\n",
    "sorted(G.nodes())"
   ]
  },
  {
   "cell_type": "code",
   "execution_count": 35,
   "metadata": {},
   "outputs": [
    {
     "data": {
      "text/plain": [
       "NodeView(('P', 'Q', 'R'))"
      ]
     },
     "execution_count": 35,
     "metadata": {},
     "output_type": "execute_result"
    }
   ],
   "source": [
    "# Add multiple nodes to the Graph:\n",
    "from pgmpy.base import DAG\n",
    "M = DAG()\n",
    "M.add_nodes_from(nodes=['P', 'Q', 'R'])\n",
    "M.nodes()"
   ]
  },
  {
   "cell_type": "code",
   "execution_count": 36,
   "metadata": {},
   "outputs": [
    {
     "data": {
      "text/plain": [
       "OutEdgeView([('D', 'A'), ('D', 'B')])"
      ]
     },
     "execution_count": 36,
     "metadata": {},
     "output_type": "execute_result"
    }
   ],
   "source": [
    "# ANCESTRAL GRAPH:\n",
    "from pgmpy.base import DAG\n",
    "dag = DAG([('A', 'C'), ('B', 'C'), ('D', 'A'), ('D', 'B')])\n",
    "anc_dag = dag.get_ancestral_graph(nodes=['A', 'B'])\n",
    "anc_dag.edges()"
   ]
  },
  {
   "cell_type": "code",
   "execution_count": 37,
   "metadata": {},
   "outputs": [
    {
     "data": {
      "text/plain": [
       "['D', 'E', 'F']"
      ]
     },
     "execution_count": 37,
     "metadata": {},
     "output_type": "execute_result"
    }
   ],
   "source": [
    "# CHLDREN NODES:\n",
    "from pgmpy.base import DAG\n",
    "g = DAG(ebunch=[('A', 'B'), ('C', 'B'), ('B', 'D'),\n",
    "                              ('B', 'E'), ('B', 'F'), ('E', 'G')])\n",
    "g.get_children(node='B')"
   ]
  },
  {
   "cell_type": "code",
   "execution_count": 38,
   "metadata": {},
   "outputs": [
    {
     "data": {
      "text/plain": [
       "{('diff', 'intel')}"
      ]
     },
     "execution_count": 38,
     "metadata": {},
     "output_type": "execute_result"
    }
   ],
   "source": [
    "# Finds all the immoralities in the model A v-structure X -> Z <- Y is an immorality \n",
    "# if there is no direct edge between X and Y .\n",
    "\n",
    "from pgmpy.base import DAG\n",
    "student = DAG()\n",
    "student.add_edges_from([('diff', 'grade'), ('intel', 'grade'),\n",
    "                        ('intel', 'SAT'), ('grade', 'letter')])\n",
    "student.get_immoralities()"
   ]
  },
  {
   "cell_type": "code",
   "execution_count": 39,
   "metadata": {},
   "outputs": [
    {
     "data": {
      "text/plain": [
       "(X ⟂ Z | Y)\n",
       "(Z ⟂ X | Y)"
      ]
     },
     "execution_count": 39,
     "metadata": {},
     "output_type": "execute_result"
    }
   ],
   "source": [
    "# Computes independencies in the DAG, by checking d-seperation.\n",
    "from pgmpy.base import DAG\n",
    "chain = DAG([('X', 'Y'), ('Y', 'Z')])\n",
    "chain.get_independencies()"
   ]
  },
  {
   "cell_type": "code",
   "execution_count": 40,
   "metadata": {},
   "outputs": [
    {
     "data": {
      "text/plain": [
       "['C', 'D']"
      ]
     },
     "execution_count": 40,
     "metadata": {},
     "output_type": "execute_result"
    }
   ],
   "source": [
    "# Returns a list of leaves of the graph:\n",
    "from pgmpy.base import DAG\n",
    "graph = DAG([('A', 'B'), ('B', 'C'), ('B', 'D')])\n",
    "graph.get_leaves()"
   ]
  },
  {
   "cell_type": "raw",
   "metadata": {},
   "source": [
    "Returns a markov blanket for a random variable. In the case of Bayesian Networks, \n",
    "the markov blanket is the set of node’s parents, its children and its children’s other parents."
   ]
  },
  {
   "cell_type": "code",
   "execution_count": 41,
   "metadata": {},
   "outputs": [
    {
     "data": {
      "text/plain": [
       "['s', 'x', 'z', 'u', 'w', 'v']"
      ]
     },
     "execution_count": 41,
     "metadata": {},
     "output_type": "execute_result"
    }
   ],
   "source": [
    "# Get a markov blanket for y\n",
    "from pgmpy.base import DAG\n",
    "from pgmpy.factors.discrete import TabularCPD\n",
    "G = DAG([('x', 'y'), ('z', 'y'), ('y', 'w'), ('y', 'v'), ('u', 'w'),\n",
    "                       ('s', 'v'), ('w', 't'), ('w', 'm'), ('v', 'n'), ('v', 'q')])\n",
    "G.get_markov_blanket('y')"
   ]
  },
  {
   "cell_type": "code",
   "execution_count": 42,
   "metadata": {},
   "outputs": [
    {
     "data": {
      "text/plain": [
       "['diff', 'intel']"
      ]
     },
     "execution_count": 42,
     "metadata": {},
     "output_type": "execute_result"
    }
   ],
   "source": [
    "# Returns a list of parents of node.\n",
    "from pgmpy.base import DAG\n",
    "G = DAG(ebunch=[('diff', 'grade'), ('intel', 'grade')])\n",
    "G.get_parents(node='grade')"
   ]
  },
  {
   "cell_type": "code",
   "execution_count": 43,
   "metadata": {},
   "outputs": [
    {
     "data": {
      "text/plain": [
       "NodeView((0, 2, 4, 6, 8, 9, 1, 3, 5, 7))"
      ]
     },
     "execution_count": 43,
     "metadata": {},
     "output_type": "execute_result"
    }
   ],
   "source": [
    "# Returns a randomly generated DAG with n_nodes number of nodes \n",
    "# with edge probability being edge_prob.\n",
    "\n",
    "from pgmpy.base import DAG\n",
    "random_dag = DAG.get_random(n_nodes=10, edge_prob=0.3)\n",
    "random_dag.nodes()"
   ]
  },
  {
   "cell_type": "code",
   "execution_count": 44,
   "metadata": {},
   "outputs": [
    {
     "data": {
      "text/plain": [
       "['A', 'E']"
      ]
     },
     "execution_count": 44,
     "metadata": {},
     "output_type": "execute_result"
    }
   ],
   "source": [
    "# Returns a list of roots of the graph.\n",
    "from pgmpy.base import DAG\n",
    "graph = DAG([('A', 'B'), ('B', 'C'), ('B', 'D'), ('E', 'B')])\n",
    "graph.get_roots()"
   ]
  },
  {
   "cell_type": "raw",
   "metadata": {},
   "source": [
    "Removes all the immoralities in the DAG and creates a moral graph (UndirectedGraph).\n",
    "\n",
    "A v-structure X->Z<-Y is an immorality if there is no directed edge between X and Y."
   ]
  },
  {
   "cell_type": "code",
   "execution_count": 45,
   "metadata": {},
   "outputs": [
    {
     "data": {
      "text/plain": [
       "EdgeView([('diff', 'grade'), ('diff', 'intel'), ('grade', 'intel')])"
      ]
     },
     "execution_count": 45,
     "metadata": {},
     "output_type": "execute_result"
    }
   ],
   "source": [
    "from pgmpy.base import DAG\n",
    "G = DAG(ebunch=[('diff', 'grade'), ('intel', 'grade')])\n",
    "moral_graph = G.moralize()\n",
    "moral_graph.edges()"
   ]
  },
  {
   "cell_type": "markdown",
   "metadata": {},
   "source": [
    "# GRAPHS"
   ]
  },
  {
   "cell_type": "code",
   "execution_count": 46,
   "metadata": {},
   "outputs": [
    {
     "data": {
      "text/plain": [
       "<daft.PGM at 0x1dfaf113978>"
      ]
     },
     "execution_count": 46,
     "metadata": {},
     "output_type": "execute_result"
    }
   ],
   "source": [
    "from pgmpy.base import DAG\n",
    "dag = DAG([('a', 'b'), ('b', 'c'), ('d', 'c')])\n",
    "dag.to_daft(node_pos={'a': (0, 0), 'b': (1, 0), 'c': (2, 0), 'd': (1, 1)})"
   ]
  },
  {
   "cell_type": "raw",
   "metadata": {},
   "source": [
    "dag.to_daft(node_pos=\"circular\")"
   ]
  },
  {
   "cell_type": "raw",
   "metadata": {},
   "source": [
    "dag.to_daft(node_pos=\"circular\", pgm_params={'observed_style': 'inner'})"
   ]
  },
  {
   "cell_type": "raw",
   "metadata": {},
   "source": [
    "dag.to_daft(node_pos=\"circular\",\n",
    "            edge_params={('a', 'b'): {'label': 2}},\n",
    "            node_params={'a': {'shape': 'rectangle'}})"
   ]
  },
  {
   "cell_type": "code",
   "execution_count": null,
   "metadata": {},
   "outputs": [],
   "source": []
  },
  {
   "cell_type": "code",
   "execution_count": 47,
   "metadata": {},
   "outputs": [],
   "source": [
    "# REPRESENTING JOINT PROBABILITY DISTRIBUTION:\n",
    "# from pgmpy.factors import JointProbabilityDistribution as Joint\n",
    "# distribution = Joint(['coin1', 'coin2'],\n",
    "#                      [2, 2], \n",
    "#                      [0.25, 0.25, 0.25, 0.25])"
   ]
  },
  {
   "cell_type": "code",
   "execution_count": null,
   "metadata": {},
   "outputs": [],
   "source": []
  },
  {
   "cell_type": "code",
   "execution_count": 48,
   "metadata": {},
   "outputs": [],
   "source": [
    "# Bayesian Model Representation:\n",
    "from pgmpy.models import BayesianModel"
   ]
  },
  {
   "cell_type": "code",
   "execution_count": 49,
   "metadata": {},
   "outputs": [],
   "source": [
    "model = BayesianModel()"
   ]
  },
  {
   "cell_type": "code",
   "execution_count": 50,
   "metadata": {},
   "outputs": [],
   "source": [
    "# Add nodes and edges:\n",
    "model.add_nodes_from(['rain', 'traffic_jam'])\n",
    "model.add_edge('rain', 'traffic_jam')"
   ]
  },
  {
   "cell_type": "raw",
   "metadata": {},
   "source": [
    "If we add an edge, but the nodes, between which the edge is, \n",
    "are not present in the model, \n",
    "pgmpy automatically adds those nodes to the model."
   ]
  },
  {
   "cell_type": "code",
   "execution_count": 51,
   "metadata": {},
   "outputs": [],
   "source": [
    "model.add_edge('accident', 'traffic_jam')"
   ]
  },
  {
   "cell_type": "code",
   "execution_count": 52,
   "metadata": {},
   "outputs": [
    {
     "data": {
      "text/plain": [
       "NodeView(('rain', 'traffic_jam', 'accident'))"
      ]
     },
     "execution_count": 52,
     "metadata": {},
     "output_type": "execute_result"
    }
   ],
   "source": [
    "# Check the nodes\n",
    "model.nodes()"
   ]
  },
  {
   "cell_type": "code",
   "execution_count": 53,
   "metadata": {},
   "outputs": [
    {
     "data": {
      "text/plain": [
       "OutEdgeView([('rain', 'traffic_jam'), ('accident', 'traffic_jam')])"
      ]
     },
     "execution_count": 53,
     "metadata": {},
     "output_type": "execute_result"
    }
   ],
   "source": [
    "# Check the edges\n",
    "model.edges()"
   ]
  },
  {
   "cell_type": "raw",
   "metadata": {},
   "source": [
    "The name of the variable in tabular CPD should be exactly \n",
    "the same as the name of the node used while creating the \n",
    "Bayesian network, as pgmpy internally uses this name to \n",
    "match the tabular CPDs with the nodes"
   ]
  },
  {
   "cell_type": "code",
   "execution_count": 54,
   "metadata": {},
   "outputs": [],
   "source": [
    "# from pgmpy.factors import TabularCPD ## This did not work\n",
    "from pgmpy.factors.discrete import TabularCPD \n",
    "cpd_rain = TabularCPD('rain', 2, [[0.4], [0.6]])+\n",
    "cpd_accident = TabularCPD('accident', 2, [[0.2], [0.8]])\n",
    "cpd_traffic_jam = TabularCPD('traffic_jam', 2,\n",
    " [[0.9, 0.6, 0.7, 0.1],\n",
    " [0.1, 0.4, 0.3, 0.9]],\n",
    " evidence=['rain', 'accident'],\n",
    " evidence_card=[2, 2])"
   ]
  },
  {
   "cell_type": "raw",
   "metadata": {},
   "source": [
    "Here, we defined three CPDs. We now need to associate them with our model. To \n",
    "associate them with the model, we just need to use the add_cpd method and pgmpy\n",
    "automatically figures out which CPD is for which node"
   ]
  },
  {
   "cell_type": "code",
   "execution_count": 55,
   "metadata": {},
   "outputs": [
    {
     "data": {
      "text/plain": [
       "[<TabularCPD representing P(rain:2) at 0x1dfb001b438>,\n",
       " <TabularCPD representing P(accident:2) at 0x1dfb001b470>,\n",
       " <TabularCPD representing P(traffic_jam:2 | rain:2, accident:2) at 0x1dfaf0e30f0>]"
      ]
     },
     "execution_count": 55,
     "metadata": {},
     "output_type": "execute_result"
    }
   ],
   "source": [
    "model.add_cpds(cpd_rain, cpd_accident, cpd_traffic_jam)\n",
    "model.get_cpds()"
   ]
  },
  {
   "cell_type": "code",
   "execution_count": 57,
   "metadata": {},
   "outputs": [
    {
     "data": {
      "text/plain": [
       "[<TabularCPD representing P(rain:2) at 0x1dfb001b438>,\n",
       " <TabularCPD representing P(accident:2) at 0x1dfb001b470>,\n",
       " <TabularCPD representing P(traffic_jam:2 | rain:2, accident:2) at 0x1dfaf0e30f0>,\n",
       " <TabularCPD representing P(long_queues:2 | traffic_jam:2) at 0x1dfb001bb70>,\n",
       " <TabularCPD representing P(getting_up_late:2) at 0x1dfb001bbe0>,\n",
       " <TabularCPD representing P(late_for_school:2 | getting_up_late:2, traffic_jam:2) at 0x1dfb001bb38>]"
      ]
     },
     "execution_count": 57,
     "metadata": {},
     "output_type": "execute_result"
    }
   ],
   "source": [
    "# Now, let's add the remaining variables and their CPDs:\n",
    "\n",
    "model.add_node('long_queues')\n",
    "model.add_edge('traffic_jam', 'long_queues')\n",
    "cpd_long_queues = TabularCPD('long_queues', 2,\n",
    "                             [[0.9, 0.2],\n",
    "                              [0.1, 0.8]],\n",
    "                             evidence=['traffic_jam'],\n",
    "                             evidence_card=[2])\n",
    "model.add_cpds(cpd_long_queues)\n",
    "model.add_nodes_from(['getting_up_late', \n",
    "                      'late_for_school'])\n",
    "model.add_edges_from(\n",
    "    [('getting_up_late', 'late_for_school'),\n",
    "     ('traffic_jam', 'late_for_school')])\n",
    "cpd_getting_up_late = TabularCPD('getting_up_late', 2, \n",
    "                                 [[0.6], [0.4]])\n",
    "cpd_late_for_school = TabularCPD( \n",
    "    'late_for_school', 2, \n",
    "    [[0.9, 0.45, 0.8, 0.1], \n",
    "     [0.1, 0.55, 0.2, 0.9]], \n",
    "    evidence=['getting_up_late', \n",
    "              'traffic_jam'], \n",
    "    evidence_card=[2, 2])\n",
    "model.add_cpds(cpd_getting_up_late, cpd_late_for_school)\n",
    "model.get_cpds()"
   ]
  },
  {
   "cell_type": "code",
   "execution_count": null,
   "metadata": {},
   "outputs": [],
   "source": []
  }
 ],
 "metadata": {
  "kernelspec": {
   "display_name": "Python 3",
   "language": "python",
   "name": "python3"
  },
  "language_info": {
   "codemirror_mode": {
    "name": "ipython",
    "version": 3
   },
   "file_extension": ".py",
   "mimetype": "text/x-python",
   "name": "python",
   "nbconvert_exporter": "python",
   "pygments_lexer": "ipython3",
   "version": "3.7.3"
  }
 },
 "nbformat": 4,
 "nbformat_minor": 2
}
